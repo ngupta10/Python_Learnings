{
 "cells": [
  {
   "cell_type": "code",
   "execution_count": null,
   "metadata": {
    "collapsed": true
   },
   "outputs": [],
   "source": [
    "# The code will work fine if pasted in compiler with requisite libraries\n",
    "##Data is available in separate folder\n",
    "\n",
    "\n",
    "import pandas as pd\n",
    "\n",
    "\n",
    "# Read tweet data\n",
    "tweet_df = pd.read_csv(\"JustinTrudeau_tweets.csv\")\n",
    "\n",
    "# The data has 3200 rows and subsetted to have 1000 rows\n",
    "tweet_df = tweet_df.iloc[:1000]\n",
    "\n",
    "print tweet_df.head()"
   ]
  },
  {
   "cell_type": "code",
   "execution_count": null,
   "metadata": {
    "collapsed": true
   },
   "outputs": [],
   "source": [
    "# print tweet_df.get_value(1,'created_at')\n",
    "\n",
    "from datetime import datetime                                              #1\n",
    "datetimestring = tweet_df.get_value(0,'created_at')                                       #2\n",
    "datetimeobject1 = datetime.strptime(datetimestring,'%Y-%m-%d %H:%M:%S')       #3\n",
    "print datetimeobject1\n",
    "\n",
    "datetimestring = tweet_df.get_value(999,'created_at')                                       #2\n",
    "datetimeobject2 = datetime.strptime(datetimestring,'%Y-%m-%d %H:%M:%S')       #3\n",
    "print datetimeobject2\n",
    "\n",
    "\n",
    "from datetime import date\n",
    "\n",
    "d0 = datetimeobject1\n",
    "d1 = datetimeobject2\n",
    "delta = d0 - d1\n",
    "\n",
    "no_of_days = delta.days +1\n",
    "\n",
    "print  no_of_days\n",
    "\n",
    "## Average number of tweets per day\n",
    "\n",
    "print len(tweet_df)/no_of_days\n"
   ]
  },
  {
   "cell_type": "code",
   "execution_count": null,
   "metadata": {
    "collapsed": true
   },
   "outputs": [],
   "source": [
    "##Weekday\n",
    "# Time-series impressions (DOW, HOD, etc) (0 = Sunday... 6 = Saturday)\n",
    "gmt_offset = -4\n",
    "\n",
    "# Create proper datetime column, apply local GMT offset\n",
    "tweet_df['ts'] = pd.to_datetime(tweet_df['created_at'])\n",
    "tweet_df['ts'] = tweet_df.ts + pd.to_timedelta(gmt_offset, unit='h')\n",
    "\n",
    "# Add hour of day and day of week columns\n",
    "tweet_df['hod'] = [t.hour for t in tweet_df.ts]\n",
    "tweet_df['dow'] = [t.dayofweek for t in tweet_df.ts]\n",
    "\n",
    "\n",
    "\n",
    "weekday_count= tweet_df.groupby(by='dow').count()\n",
    "days = [ 'Monday', 'Tuesday', 'Wednesday', 'Thursday', 'Friday', 'Saturday','Sunday']\n",
    "weekday_count['day'] = days\n",
    "print weekday_count"
   ]
  },
  {
   "cell_type": "code",
   "execution_count": null,
   "metadata": {
    "collapsed": true
   },
   "outputs": [],
   "source": [
    "## Word Counter Finding Awesome Way\n",
    "\n",
    "from textblob import TextBlob\n",
    "\n",
    "##Word Counter\n",
    "def word_counter(tweet_df,word):\n",
    "\n",
    "    counter =0\n",
    "    for tweet in tweet_df['text']:\n",
    "\n",
    "        monty = TextBlob(tweet.decode('utf-8'))\n",
    "        c = monty.words.count(word)\n",
    "        counter = counter+c\n",
    "\n",
    "\n",
    "    return counter\n",
    "\n",
    "word_to_search = 'Trudeau'\n",
    "counter_word= word_counter(tweet_df,word_to_search)\n",
    "\n",
    "print (\"%s for %i\"%(word_to_search,counter_word))\n"
   ]
  },
  {
   "cell_type": "code",
   "execution_count": null,
   "metadata": {
    "collapsed": true
   },
   "outputs": [],
   "source": [
    "import re\n",
    "\n",
    "import numpy as np\n",
    "import pandas as pd\n",
    "\n",
    "\n",
    "import matplotlib.pylab as plt\n",
    "pd.set_option('max_colwidth',150)\n",
    "\n",
    "df = tweet_df\n",
    "\n",
    "\n",
    "df['day_of_week'] = [data[0:3] for data in df['created_at']]\n",
    "df['date'] = [data[-4:] + data[3:10] for data in df['created_at']]\n",
    "df['time'] = [data[11:19] for data in df['created_at']]\n",
    "\n",
    "# round to the nearest hour and subtract 3 to get from PST to EST\n",
    "df['hour'] = np.floor(pd.to_datetime(df.time).dt.hour.values + 0.5)\n",
    "\n",
    "\n",
    "grouped_by_hour = df['hour'].value_counts()\n",
    "print grouped_by_hour"
   ]
  },
  {
   "cell_type": "code",
   "execution_count": null,
   "metadata": {
    "collapsed": true
   },
   "outputs": [],
   "source": [
    "##Count total number of words\n",
    "\n",
    "def total_words(tweet_df):\n",
    "    counter = 0\n",
    "    for tweet in tweet_df['text']:\n",
    "        for word in tweet.split():\n",
    "        counter = counter + 1\n",
    "\n",
    "    return counter\n",
    "\n",
    "\n",
    "counter_total_words = total_words(tweet_df)\n",
    "\n",
    "\n",
    "print (\"Total Words :  for %i\" % (counter_total_words))\n",
    "\n",
    "print (\"Average Number of Words Per Tweet : %i\" % (counter_total_words/len(tweet_df)))"
   ]
  }
 ],
 "metadata": {
  "kernelspec": {
   "display_name": "Python 2",
   "language": "python",
   "name": "python2"
  },
  "language_info": {
   "codemirror_mode": {
    "name": "ipython",
    "version": 2
   },
   "file_extension": ".py",
   "mimetype": "text/x-python",
   "name": "python",
   "nbconvert_exporter": "python",
   "pygments_lexer": "ipython2",
   "version": "2.7.14"
  }
 },
 "nbformat": 4,
 "nbformat_minor": 2
}
